{
 "cells": [
  {
   "cell_type": "code",
   "execution_count": null,
   "metadata": {},
   "outputs": [],
   "source": [
    "# 1- program to read two decimal numbers from the user and print the sum\n",
    "\n",
    "num1 = float(input(\"Enter the first decimal number: \"))\n",
    "num2 = float(input(\"Enter the second decimal number: \"))\n",
    "\n",
    "sum = num1 + num2\n",
    "\n",
    "print(sum)"
   ]
  },
  {
   "cell_type": "code",
   "execution_count": null,
   "metadata": {},
   "outputs": [],
   "source": [
    "# 2- Guessing game (computer generate random number from 0 to 10, \n",
    "# ask user the required number of trials, if the user enter 0,\n",
    "# the program generate random number of trials)\n",
    "\n",
    "import random\n",
    "\n",
    "num = random.randint(0, 10)\n",
    "\n",
    "counter = 0\n",
    "\n",
    "counter = int(input('Enter the required number of trials: '))\n",
    "\n",
    "if counter == 0:\n",
    "    counter = random.randrange(0, 7)\n",
    "        \n",
    "guess = int(input('Guess the number from 0 to 10: '))\n",
    "\n",
    "c = 1\n",
    "\n",
    "while guess != num and c < counter:\n",
    "    if guess != num:\n",
    "        print('Try again!')\n",
    "        guess = int(input(\"Guess the number from 0 to 10: \"))\n",
    "        c = c + 1\n",
    "\n",
    "if guess != num and c == counter:\n",
    "    print('Game Over!')\n",
    "\n",
    "if guess == num:\n",
    "    print('Great! You got the number: ', + num)\n"
   ]
  },
  {
   "cell_type": "code",
   "execution_count": null,
   "metadata": {},
   "outputs": [],
   "source": [
    "# 3- Print the word PYTHON one hundred times without using loops\n",
    "\n",
    "x = 'PYTHON\\n'\n",
    "print(x * 100)"
   ]
  },
  {
   "cell_type": "code",
   "execution_count": null,
   "metadata": {},
   "outputs": [],
   "source": [
    "# 4- Write the code to draw the attached figures\n",
    "\n",
    "import turtle\n",
    "turtle.shape('turtle')\n",
    "x = 100\n",
    "for x in range(60):\n",
    "    for i in range(4):\n",
    "        turtle.forward(100)\n",
    "        turtle.right(90)\n",
    "    turtle.right(5)"
   ]
  },
  {
   "cell_type": "code",
   "execution_count": null,
   "metadata": {},
   "outputs": [],
   "source": [
    "# 4- Write the code to draw the attached figures\n",
    "\n",
    "import turtle\n",
    "\n",
    "turtle = turtle.Turtle()\n",
    "\n",
    "length = 60\n",
    "\n",
    "for i in range(100):          # draw 100 squares\n",
    "    turtle.right(4)           # number of sides\n",
    "    length = length * 1.03    # increase in length for each new square\n",
    "    for x in range(4):\n",
    "        turtle.forward(length)\n",
    "        turtle.left(360/float(4))\n"
   ]
  }
 ],
 "metadata": {
  "kernelspec": {
   "display_name": "Python 3",
   "language": "python",
   "name": "python3"
  },
  "language_info": {
   "codemirror_mode": {
    "name": "ipython",
    "version": 3
   },
   "file_extension": ".py",
   "mimetype": "text/x-python",
   "name": "python",
   "nbconvert_exporter": "python",
   "pygments_lexer": "ipython3",
   "version": "3.7.7"
  }
 },
 "nbformat": 4,
 "nbformat_minor": 4
}
