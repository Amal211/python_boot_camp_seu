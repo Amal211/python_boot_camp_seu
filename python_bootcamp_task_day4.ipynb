{
 "cells": [
  {
   "cell_type": "code",
   "execution_count": 2,
   "metadata": {},
   "outputs": [
    {
     "name": "stdout",
     "output_type": "stream",
     "text": [
      "['This is my line number 1']\n",
      "['This is my line number 1', 'This is my line number 2']\n",
      "['This is my line number 1', 'This is my line number 2', 'This is my line number 3']\n",
      "['This is my line number 1', 'This is my line number 2', 'This is my line number 3', 'This is my line number 4']\n",
      "Completed!\n"
     ]
    },
    {
     "data": {
      "text/plain": [
       "0"
      ]
     },
     "execution_count": 2,
     "metadata": {},
     "output_type": "execute_result"
    }
   ],
   "source": [
    "# write a Python program to copy a file line by line to\n",
    "# another file with line numbers, \n",
    "# then place the file in a folder with current date and time, \n",
    "# then copy the lines of the original file into a list and print it. \n",
    "\n",
    "import os\n",
    "import datetime\n",
    "def fileCopyer():\n",
    "    fileList = []\n",
    "    try:\n",
    "        source = open('source.txt')\n",
    "        dT = datetime.datetime.now()\n",
    "        d = dT.strftime('%d')       #print(dT.strftime(\"%c\"))\n",
    "        m = dT.strftime('%m')\n",
    "        y = dT.strftime('%Y')\n",
    "        time =dT.strftime('%X')\n",
    "        time = time.replace(':', '_')\n",
    "        folderName = 'Folder_'+d+'_'+m+'_'+y+'_'+time\n",
    "        if not os.path.exists(folderName): #print(folderName)\n",
    "            os.makedirs(folderName)\n",
    "        path = folderName + '\\/' + 'destination.txt'\n",
    "        destination = open(path, 'w')\n",
    "        lineNumber = 0\n",
    "        for line in source:\n",
    "            destination.write(str(lineNumber)+': '+line)\n",
    "            fileList.append(line.rstrip('\\n'))\n",
    "            lineNumber += 1\n",
    "            print(fileList)\n",
    "    except:\n",
    "        print(\"Error!\")\n",
    "    else:\n",
    "        print(\"Completed!\")\n",
    "    return 0\n",
    "# -----------------------------------\n",
    "fileCopyer()"
   ]
  },
  {
   "cell_type": "code",
   "execution_count": null,
   "metadata": {},
   "outputs": [],
   "source": []
  }
 ],
 "metadata": {
  "kernelspec": {
   "display_name": "Python 3",
   "language": "python",
   "name": "python3"
  },
  "language_info": {
   "codemirror_mode": {
    "name": "ipython",
    "version": 3
   },
   "file_extension": ".py",
   "mimetype": "text/x-python",
   "name": "python",
   "nbconvert_exporter": "python",
   "pygments_lexer": "ipython3",
   "version": "3.7.7"
  }
 },
 "nbformat": 4,
 "nbformat_minor": 4
}
